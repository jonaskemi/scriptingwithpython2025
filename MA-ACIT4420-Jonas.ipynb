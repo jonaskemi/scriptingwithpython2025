{
 "cells": [
  {
   "cell_type": "markdown",
   "id": "5ebbb157",
   "metadata": {},
   "source": [
    "### Simple Banking System\n",
    "###### The goal is to design and implement a class structure using class inheritenace. \n",
    "###### Create a base class and multiple derived classes, each with specific functionality\n",
    "###### Class structure will have one base class and two derived classes. Bank account, savings and checking account."
   ]
  },
  {
   "cell_type": "code",
   "execution_count": 6,
   "id": "87ef4011",
   "metadata": {},
   "outputs": [],
   "source": [
    "# Task 1: Making the base class, BankAccount\n",
    "class BankAccount:\n",
    "    account_holder = \"\"\n",
    "    balance = 0 \n",
    "    \n",
    "    def __init__(self, account_holder, balance=0):\n",
    "        self.account_holder = account_holder\n",
    "        self.balance = balance\n",
    "        \n",
    "    # reused in child classes\n",
    "    def deposit(self, amount):\n",
    "        if amount > 0:\n",
    "            self.balance += amount\n",
    "        else:\n",
    "            raise ValueError(\"Deposit amount must be positive.\")\n",
    "        return self.balance\n",
    "\n",
    "    # reused in child classes\n",
    "    def withdraw(self, amount):\n",
    "        if amount <= self.balance and amount > 0:\n",
    "            self.balance -= amount\n",
    "        else:\n",
    "            raise ValueError(\"Withdrawal amount must be positive and less than or equal to the balance.\")\n",
    "        return self.balance\n",
    "\n",
    "    # reused in child classes\n",
    "    def account_info(self):\n",
    "        return f\"Account Holder: {self.account_holder}, Balance: {self.balance:.2f} NOK\""
   ]
  },
  {
   "cell_type": "code",
   "execution_count": 7,
   "id": "02b361e5",
   "metadata": {},
   "outputs": [
    {
     "name": "stdout",
     "output_type": "stream",
     "text": [
      "Account Holder: Alice, Balance: 1000.00 NOK\n",
      "Account Holder: Bob, Balance: 500.00 NOK\n"
     ]
    }
   ],
   "source": [
    "a1  = BankAccount(\"Alice\", 1000)\n",
    "a2  = BankAccount(\"Bob\", 500)\n",
    "\n",
    "print(a1.account_info())  # Account Holder: Alice, Balance: 1000.00 NOK\n",
    "print(a2.account_info())  # Account Holder: Bob, Balance: 500.00 NOK"
   ]
  },
  {
   "cell_type": "code",
   "execution_count": 8,
   "id": "922afa4a",
   "metadata": {},
   "outputs": [],
   "source": [
    "# Task 1b: Making the first child class; SavingsAccount\n",
    "class SavingsAccount(BankAccount):\n",
    "    interest_rate = 0.02\n",
    "\n",
    "    def __init__(self, account_holder, balance=0, interest_rate=0.02):\n",
    "        super().__init__(account_holder, balance)\n",
    "        if interest_rate < 0:\n",
    "            raise ValueError(\"interest_rate must be non-negative\")\n",
    "        self.interest_rate = interest_rate\n",
    "\n",
    "    def apply_interest(self):\n",
    "        interest = self.balance * self.interest_rate\n",
    "        self.balance += interest\n",
    "        return self.balance\n",
    "    \n"
   ]
  },
  {
   "cell_type": "code",
   "execution_count": 9,
   "id": "580674f4",
   "metadata": {},
   "outputs": [
    {
     "name": "stdout",
     "output_type": "stream",
     "text": [
      "Account Holder: Charlie, Balance: 2000.00 NOK\n",
      "Account Holder: Charlie, Balance: 2040.00 NOK\n",
      "Account Holder: Charlie, Balance: 2080.80 NOK\n",
      "Account Holder: Charlie, Balance: 2580.80 NOK\n",
      "Account Holder: Charlie, Balance: 2280.80 NOK\n",
      "Account Holder: Charlie, Balance: 2326.42 NOK\n"
     ]
    }
   ],
   "source": [
    "s1 = SavingsAccount(\"Charlie\", 2000)\n",
    "print(s1.account_info())  # Account Holder: Charlie, Balance: 2000.00 NOK\n",
    "\n",
    "s1.apply_interest()  # Applies interest\n",
    "print(s1.account_info())  # Account Holder: Charlie, Balance: 2040.00 NOK\n",
    "\n",
    "s1.apply_interest()  # Applies interest again\n",
    "print(s1.account_info())  # Account Holder: Charlie, Balance: 2080.80 NOK\n",
    "\n",
    "s1.deposit(500)  # Deposits 500 - Using base class deposit\n",
    "print(s1.account_info())  # Account Holder: Charlie, Balance: 2580.80 NOK\n",
    "\n",
    "s1.withdraw(300)  # Withdraws 300 - Using base class withdraw\n",
    "print(s1.account_info())  # Account Holder: Charlie, Balance: 2280.80 NOK\n",
    "\n",
    "s1.apply_interest()  # Applies interest again\n",
    "print(s1.account_info())  # Account Holder: Charlie, Balance: 2326.42 NOK"
   ]
  },
  {
   "cell_type": "code",
   "execution_count": null,
   "id": "7f5db5ff",
   "metadata": {},
   "outputs": [],
   "source": [
    "# Task 1c: Making the second child class; CheckingAccount\n",
    "class CheckingAccount(BankAccount):\n",
    "    transaction_fee = 10 # 10 NOK fee per transaction\n",
    "    \n",
    "    def __init__(self, account_holder, balance=0, transaction_fee=10):\n",
    "        super().__init__(account_holder, balance)\n",
    "        if transaction_fee < 0:\n",
    "            raise ValueError(\"transaction_fee must be non-negative\")\n",
    "        self.transaction_fee = transaction_fee\n",
    "    \n",
    "    # Withdraw method with fee reusing the base class withdraw method using super() \n",
    "    def withdraw(self, amount):\n",
    "        return super().withdraw(amount + self.transaction_fee)\n",
    "    "
   ]
  },
  {
   "cell_type": "code",
   "execution_count": 11,
   "id": "409099c7",
   "metadata": {},
   "outputs": [
    {
     "name": "stdout",
     "output_type": "stream",
     "text": [
      "Account Holder: Diana, Balance: 1000.00 NOK\n",
      "Account Holder: Diana, Balance: 890.00 NOK\n"
     ]
    }
   ],
   "source": [
    "c1 = CheckingAccount(\"Diana\", 1000)\n",
    "print(c1.account_info())  # Account Holder: Diana, Balance: 1000.00 NOK\n",
    "\n",
    "c1.withdraw(100)  # Withdraws 100 + 10 fee, new balance should be 890.00 NOK - while using super()\n",
    "print(c1.account_info())  # Account Holder: Diana, Balance: 890.00 NOK\n"
   ]
  },
  {
   "cell_type": "code",
   "execution_count": 29,
   "id": "07fd534d",
   "metadata": {},
   "outputs": [
    {
     "name": "stdout",
     "output_type": "stream",
     "text": [
      "Deposit amount must be positive.\n"
     ]
    }
   ],
   "source": [
    "# Raise error in base banking class\n",
    "try:\n",
    "    a1.deposit(-100)  # Attempt to deposit -100, should raise ValueError\n",
    "    print(a1.account_info())\n",
    "except ValueError as e:\n",
    "    print(e)"
   ]
  },
  {
   "cell_type": "code",
   "execution_count": 28,
   "id": "a092939c",
   "metadata": {},
   "outputs": [
    {
     "name": "stdout",
     "output_type": "stream",
     "text": [
      "interest_rate must be non-negative\n"
     ]
    }
   ],
   "source": [
    "# Raise error savings account \n",
    "try:\n",
    "    s = SavingsAccount(\"Test\", 100, interest_rate=-0.01) # Attempt to create with negative interest rate\n",
    "    print(s.account_info())\n",
    "except ValueError as e:\n",
    "    print(e)\n"
   ]
  },
  {
   "cell_type": "code",
   "execution_count": null,
   "id": "160eeda4",
   "metadata": {},
   "outputs": [
    {
     "name": "stdout",
     "output_type": "stream",
     "text": [
      "Insufficient funds for this withdrawal including transaction fee.\n"
     ]
    }
   ],
   "source": [
    "# Raise error in checking account\n",
    "try:    \n",
    "    c1.withdraw(900)  # Attempt to withdraw 900 + 10 fee, should raise ValueError\n",
    "    print(c1.account_info()) \n",
    "except ValueError as e:\n",
    "    print(e)"
   ]
  },
  {
   "cell_type": "code",
   "execution_count": 26,
   "id": "be72a8f8",
   "metadata": {},
   "outputs": [
    {
     "name": "stdout",
     "output_type": "stream",
     "text": [
      "Account Holder: Diana, Balance: 580.00 NOK\n"
     ]
    }
   ],
   "source": [
    "try: \n",
    "    c1.withdraw(300)\n",
    "    print(c1.account_info())  # Account Holder: Diana, Balance: 580.00 NOK\n",
    "except ValueError as e:\n",
    "    print(e)"
   ]
  },
  {
   "cell_type": "code",
   "execution_count": null,
   "id": "735f81cd",
   "metadata": {},
   "outputs": [
    {
     "ename": "SyntaxError",
     "evalue": "invalid syntax (690755994.py, line 4)",
     "output_type": "error",
     "traceback": [
      "  \u001b[36mCell\u001b[39m\u001b[36m \u001b[39m\u001b[32mIn[4]\u001b[39m\u001b[32m, line 4\u001b[39m\n\u001b[31m    \u001b[39m\u001b[31mpyreverse -o png .src\u001b[39m\n                 ^\n\u001b[31mSyntaxError\u001b[39m\u001b[31m:\u001b[39m invalid syntax\n"
     ]
    }
   ],
   "source": []
  },
  {
   "cell_type": "code",
   "execution_count": null,
   "id": "9962266d",
   "metadata": {},
   "outputs": [],
   "source": []
  }
 ],
 "metadata": {
  "kernelspec": {
   "display_name": ".venv",
   "language": "python",
   "name": "python3"
  },
  "language_info": {
   "codemirror_mode": {
    "name": "ipython",
    "version": 3
   },
   "file_extension": ".py",
   "mimetype": "text/x-python",
   "name": "python",
   "nbconvert_exporter": "python",
   "pygments_lexer": "ipython3",
   "version": "3.13.5"
  }
 },
 "nbformat": 4,
 "nbformat_minor": 5
}
