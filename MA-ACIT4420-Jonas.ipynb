{
 "cells": [
  {
   "cell_type": "markdown",
   "id": "5ebbb157",
   "metadata": {},
   "source": [
    "### Simple Banking System\n",
    "###### The goal is to design and implement a class structure using class inheritenace. \n",
    "###### Create a base class and multiple derived classes, each with specific functionality\n",
    "###### Class structure will have one base class and two derived classes. Bank account, savings and checking account."
   ]
  },
  {
   "cell_type": "code",
   "execution_count": 46,
   "id": "87ef4011",
   "metadata": {},
   "outputs": [],
   "source": [
    "# Task 1: Making the base class, BankAccount\n",
    "class BankAccount:\n",
    "    account_holder = \"\"\n",
    "    balance = 0 \n",
    "    \n",
    "    def __init__(self, account_holder, balance=0):\n",
    "        self.account_holder = account_holder\n",
    "        self.balance = balance\n",
    "        \n",
    "    # reused in subclasses\n",
    "    def deposit(self, amount):\n",
    "        if amount > 0:\n",
    "            self.balance += amount\n",
    "        else:\n",
    "            raise ValueError(\"Deposit amount must be positive.\")\n",
    "        return self.balance\n",
    "\n",
    "    # reused in only Savingsaccount\n",
    "    def withdraw(self, amount):\n",
    "        if amount <= self.balance and amount > 0:\n",
    "            self.balance -= amount\n",
    "        else:\n",
    "            raise ValueError(\"Withdrawal amount must be positive and less than or equal to the balance.\")\n",
    "        return self.balance\n",
    "\n",
    "    # reused in subclasses\n",
    "    def account_info(self):\n",
    "        return f\"Account Holder: {self.account_holder}, Balance: {self.balance:.2f} NOK\""
   ]
  },
  {
   "cell_type": "code",
   "execution_count": 47,
   "id": "02b361e5",
   "metadata": {},
   "outputs": [
    {
     "name": "stdout",
     "output_type": "stream",
     "text": [
      "Account Holder: Alice, Balance: 1000.00 NOK\n",
      "Account Holder: Bob, Balance: 500.00 NOK\n"
     ]
    }
   ],
   "source": [
    "a1  = BankAccount(\"Alice\", 1000)\n",
    "a2  = BankAccount(\"Bob\", 500)\n",
    "\n",
    "print(a1.account_info())  # Account Holder: Alice, Balance: 1000.00 NOK\n",
    "print(a2.account_info())  # Account Holder: Bob, Balance: 500.00 NOK"
   ]
  },
  {
   "cell_type": "code",
   "execution_count": null,
   "id": "922afa4a",
   "metadata": {},
   "outputs": [],
   "source": [
    "# Task 1b: Making the first child class; SavingsAccount\n",
    "class SavingsAccount(BankAccount):\n",
    "    interest_rate = 0.02  \n",
    "\n",
    "    def apply_interest(self):\n",
    "        interest = self.balance * self.interest_rate\n",
    "        self.balance += interest\n",
    "        return self.balance\n",
    "    \n",
    "    def __init__(self, account_holder, balance=0, interest_rate=0.02):\n",
    "        super().__init__(account_holder, balance)\n",
    "        self.interest_rate = interest_rate\n"
   ]
  },
  {
   "cell_type": "code",
   "execution_count": 49,
   "id": "580674f4",
   "metadata": {},
   "outputs": [
    {
     "name": "stdout",
     "output_type": "stream",
     "text": [
      "Account Holder: Charlie, Balance: 2000.00 NOK\n",
      "Account Holder: Charlie, Balance: 2040.00 NOK\n",
      "Account Holder: Charlie, Balance: 2080.80 NOK\n",
      "Account Holder: Charlie, Balance: 2580.80 NOK\n",
      "Account Holder: Charlie, Balance: 2280.80 NOK\n",
      "Account Holder: Charlie, Balance: 2326.42 NOK\n"
     ]
    }
   ],
   "source": [
    "s1 = SavingsAccount(\"Charlie\", 2000)\n",
    "print(s1.account_info())  # Account Holder: Charlie, Balance: 2000.00 NOK\n",
    "s1.apply_interest()  # Applies interest\n",
    "print(s1.account_info())  # Account Holder: Charlie, Balance: 2040.00 NOK\n",
    "s1.apply_interest()  # Applies interest again\n",
    "print(s1.account_info())  # Account Holder: Charlie, Balance: 2080.80 NOK\n",
    "s1.deposit(500)  # Deposits 500\n",
    "print(s1.account_info())  # Account Holder: Charlie, Balance: 2580.80 NOK\n",
    "s1.withdraw(300)  # Withdraws 300\n",
    "print(s1.account_info())  # Account Holder: Charlie, Balance: 2280.80 NOK\n",
    "s1.apply_interest()  # Applies interest again\n",
    "print(s1.account_info())  # Account Holder: Charlie, Balance: 2326.42 NOK"
   ]
  },
  {
   "cell_type": "code",
   "execution_count": null,
   "id": "7f5db5ff",
   "metadata": {},
   "outputs": [],
   "source": [
    "# Task 1c: Making the second child class; CheckingAccount\n",
    "class CheckingAccount(BankAccount):\n",
    "    transaction_fee = 10 # 10 NOK fee per transaction\n",
    "    \n",
    "    # Withdraw method with fee reusing the base class withdraw method using super() \n",
    "    def withdraw(self, amount):\n",
    "        total_amount = amount + self.transaction_fee\n",
    "        return super().withdraw(total_amount)\n",
    "    \n",
    "    \n",
    "    def __init__(self, account_holder, balance=0, transaction_fee=10):\n",
    "        super().__init__(account_holder, balance)\n",
    "        self.transaction_fee = transaction_fee"
   ]
  },
  {
   "cell_type": "code",
   "execution_count": null,
   "id": "409099c7",
   "metadata": {},
   "outputs": [
    {
     "name": "stdout",
     "output_type": "stream",
     "text": [
      "Account Holder: Diana, Balance: 1000.00 NOK\n",
      "Account Holder: Diana, Balance: 890.00 NOK\n"
     ]
    }
   ],
   "source": [
    "c1 = CheckingAccount(\"Diana\", 1000)\n",
    "print(c1.account_info())  # Account Holder: Diana, Balance: 1000.00 NOK\n",
    "c1.withdraw(100)  # Withdraws 100 + 10 fee, new balance should be 890.00 NOK\n",
    "print(c1.account_info())  # Account Holder: Diana, Balance: 890.00 NOK\n"
   ]
  }
 ],
 "metadata": {
  "kernelspec": {
   "display_name": ".venv",
   "language": "python",
   "name": "python3"
  },
  "language_info": {
   "codemirror_mode": {
    "name": "ipython",
    "version": 3
   },
   "file_extension": ".py",
   "mimetype": "text/x-python",
   "name": "python",
   "nbconvert_exporter": "python",
   "pygments_lexer": "ipython3",
   "version": "3.13.5"
  }
 },
 "nbformat": 4,
 "nbformat_minor": 5
}
